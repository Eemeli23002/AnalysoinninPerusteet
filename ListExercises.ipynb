{
 "cells": [
  {
   "cell_type": "code",
   "execution_count": 11,
   "metadata": {},
   "outputs": [
    {
     "name": "stdout",
     "output_type": "stream",
     "text": [
      "['table', 'chair', 'piano']\n",
      "['table', 'chair']\n",
      "table\n",
      "Thrown Dice Numbers: [6, 2, 6, 2, 5]\n",
      "Sum of Thrown Dice Numbers: 21\n",
      "Highest Value in Thrown Dice Numbers: 6\n"
     ]
    }
   ],
   "source": [
    "import random\n",
    "#1\n",
    "list = [\"table\", \"chair\", \"piano\"]\n",
    "\n",
    "#2\n",
    "print(list)\n",
    "\n",
    "#3\n",
    "print (list[0:2])\n",
    "\n",
    "#4\n",
    "for item in list:\n",
    "    if item == \"table\":\n",
    "        print(item)\n",
    "\n",
    "\n",
    "# Exer 2\n",
    "#1\n",
    "import random\n",
    "\n",
    "\n",
    "thrownDiceNumbers = []\n",
    "\n",
    "for _ in range(5):\n",
    "    random_number = random.randint(1, 6)  \n",
    "    thrownDiceNumbers.append(random_number)\n",
    "\n",
    "\n",
    "print(\"Thrown Dice Numbers:\", thrownDiceNumbers)\n",
    "\n",
    "\n",
    "sum_of_numbers = sum(thrownDiceNumbers)\n",
    "print(\"Sum of Thrown Dice Numbers:\", sum_of_numbers)\n",
    "\n",
    "\n",
    "max_value = max(thrownDiceNumbers)\n",
    "print(\"Highest Value in Thrown Dice Numbers:\", max_value)\n",
    "\n"
   ]
  }
 ],
 "metadata": {
  "kernelspec": {
   "display_name": "Python 3",
   "language": "python",
   "name": "python3"
  },
  "language_info": {
   "name": "python",
   "version": "3.12.0"
  }
 },
 "nbformat": 4,
 "nbformat_minor": 2
}
