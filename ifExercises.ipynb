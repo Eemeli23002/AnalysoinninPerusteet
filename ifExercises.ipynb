{
 "cells": [
  {
   "cell_type": "code",
   "execution_count": 26,
   "metadata": {},
   "outputs": [
    {
     "name": "stdout",
     "output_type": "stream",
     "text": [
      "num1 is greater than num2\n",
      "num1 is equal or greater than num2\n",
      "num1 is not num2\n",
      "num1 is greater than num2\n",
      "num1 and num3 are equal\n",
      "name1 and name2 are not the same\n",
      "name1 and 3 are the same\n"
     ]
    }
   ],
   "source": [
    "num1 = 7 #int \n",
    "num2 = 5 #int\n",
    "num3 = 7 #int\n",
    "\n",
    "name1 = \"Maija\"\n",
    "name2 = \"Pekka\"\n",
    "name3 = \"Maija\"\n",
    "\n",
    "# Task 1\n",
    "if num1 == num2:\n",
    "    print(\"num1 is equal to num2\")\n",
    "\n",
    "if num1 > num2:\n",
    "    print(\"num1 is greater than num2\")\n",
    "\n",
    "if num1 >= num2:\n",
    "    print(\"num1 is equal or greater than num2\")\n",
    "\n",
    "if num1 != num2:\n",
    "    print(\"num1 is not num2\")\n",
    "\n",
    "# Task 2\n",
    "if num1 == num2 == num3:\n",
    "    print(\"All numbers qre equal\")\n",
    "\n",
    "if num1 == num2 or num2 == num3:\n",
    "    print(\"num1 and num2 are equal, or num2 and num3 are equal\")\n",
    "\n",
    "\n",
    "if num1 > num2 and num1 > num3:\n",
    "    print (\"num1 is greatest\")\n",
    "\n",
    "if num1 > num2:\n",
    "    print(\"num1 is greater than num2\")\n",
    "elif num2 > num3:\n",
    "    print(\"num2 is greater than num3\")\n",
    "\n",
    "if num1 == num2:\n",
    "    print(\"num1 and num2 are equal\")\n",
    "elif num1 == num3:\n",
    "    print(\"num1 and num3 are equal\")\n",
    "\n",
    "# Task3\n",
    "\n",
    "if name1 == name2:\n",
    "    print(\"name1 is same as name2\")\n",
    "\n",
    "if name1 != name2:\n",
    "    print (\"name1 and name2 are not the same\")\n",
    "\n",
    "\n",
    "if name1 == name2:\n",
    "    print(\"name1 is same as name2\")\n",
    "elif name1 == name3:\n",
    "    print(\"name1 and 3 are the same\")\n",
    "\n"
   ]
  }
 ],
 "metadata": {
  "kernelspec": {
   "display_name": "Python 3",
   "language": "python",
   "name": "python3"
  },
  "language_info": {
   "codemirror_mode": {
    "name": "ipython",
    "version": 3
   },
   "file_extension": ".py",
   "mimetype": "text/x-python",
   "name": "python",
   "nbconvert_exporter": "python",
   "pygments_lexer": "ipython3",
   "version": "3.12.0"
  }
 },
 "nbformat": 4,
 "nbformat_minor": 2
}
