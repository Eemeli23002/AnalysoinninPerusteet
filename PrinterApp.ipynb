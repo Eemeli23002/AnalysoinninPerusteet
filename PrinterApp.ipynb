{
 "cells": [
  {
   "cell_type": "code",
   "execution_count": 18,
   "metadata": {},
   "outputs": [
    {
     "name": "stdout",
     "output_type": "stream",
     "text": [
      "Printer App\n",
      "This app is made by: Eemeli\n",
      "The value of number 1 is 5\n",
      "The value of number 2 is 3\n",
      "15\n",
      "1.6666666666666667\n",
      "2\n",
      "8\n"
     ]
    }
   ],
   "source": [
    "creator = \"Eemeli\" # string\n",
    "\n",
    "num1 = 5 # integer\n",
    "num2 = 3 # integer\n",
    "\n",
    "multiplication = (num1 * num2) #integer\n",
    "jako = (num1 / num2) #integer\n",
    "ero = (num1 - num2) #integer\n",
    "sum = (num1 + num2) #integer\n",
    "\n",
    "print(\"Printer App\")\n",
    "print(\"This app is made by: \"+ creator)\n",
    "\n",
    "\n",
    "print(\"The value of number 1 is \" + str(num1))\n",
    "print(\"The value of number 2 is \" + str(num2))\n",
    "\n",
    "print(multiplication)\n",
    "print (jako)\n",
    "print (ero)\n",
    "print (sum)"
   ]
  }
 ],
 "metadata": {
  "kernelspec": {
   "display_name": "Python 3",
   "language": "python",
   "name": "python3"
  },
  "language_info": {
   "codemirror_mode": {
    "name": "ipython",
    "version": 3
   },
   "file_extension": ".py",
   "mimetype": "text/x-python",
   "name": "python",
   "nbconvert_exporter": "python",
   "pygments_lexer": "ipython3",
   "version": "3.12.0"
  }
 },
 "nbformat": 4,
 "nbformat_minor": 2
}
