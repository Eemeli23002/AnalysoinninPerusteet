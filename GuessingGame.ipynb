{
 "cells": [
  {
   "cell_type": "code",
   "execution_count": 11,
   "metadata": {},
   "outputs": [
    {
     "name": "stdout",
     "output_type": "stream",
     "text": [
      "incorrect, guess again\n",
      "incorrect, guess again\n",
      "You guessed correct! You guessed 3 times!\n"
     ]
    }
   ],
   "source": [
    "correctName = \"Pekka\"\n",
    "attempts = 0\n",
    "\n",
    "while True:\n",
    "    user_guess = input(\"Guess the name\")\n",
    "    attempts += 1\n",
    "\n",
    "    if user_guess == correctName:\n",
    "        print( \"You guessed correct! You guessed\", attempts, \"times!\")\n",
    "        break\n",
    "    else:\n",
    "        print(\"incorrect, guess again\")\n",
    "\n",
    "\n"
   ]
  }
 ],
 "metadata": {
  "kernelspec": {
   "display_name": "Python 3",
   "language": "python",
   "name": "python3"
  },
  "language_info": {
   "codemirror_mode": {
    "name": "ipython",
    "version": 3
   },
   "file_extension": ".py",
   "mimetype": "text/x-python",
   "name": "python",
   "nbconvert_exporter": "python",
   "pygments_lexer": "ipython3",
   "version": "3.12.0"
  }
 },
 "nbformat": 4,
 "nbformat_minor": 2
}
